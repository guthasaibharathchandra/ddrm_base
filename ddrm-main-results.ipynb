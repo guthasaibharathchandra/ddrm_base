{
 "cells": [
  {
   "cell_type": "code",
   "execution_count": 1,
   "metadata": {},
   "outputs": [],
   "source": [
    "import torch\n",
    "import numpy as np\n",
    "import matplotlib.pyplot as plt\n",
    "from lib_svd import Deblurring, SuperResolution\n",
    "from runner import dict2namespace, load_model_and_initialize_ddrm, load_dataset_and_task, run_evaluation"
   ]
  },
  {
   "cell_type": "code",
   "execution_count": 2,
   "metadata": {},
   "outputs": [],
   "source": [
    "# Imagenet 256x256 config\n",
    "config_dict = dict(\n",
    "                data = dict(\n",
    "                        dataset = \"ImageNet\",\n",
    "                        image_size = 256,\n",
    "                        channels = 3,\n",
    "                        logit_transform = False,\n",
    "                        uniform_dequantization = False,\n",
    "                        gaussian_dequantization = False,\n",
    "                        random_flip = True,\n",
    "                        rescaled = True,\n",
    "                        num_workers = 32, # was 32\n",
    "                        subset_1k = True,\n",
    "                        out_of_dist = False,\n",
    "                        ),\n",
    "\n",
    "                model = dict(\n",
    "                        type = \"openai\",\n",
    "                        in_channels = 3,\n",
    "                        out_channels = 3,\n",
    "                        num_channels = 256,\n",
    "                        num_heads = 4,\n",
    "                        num_res_blocks = 2,\n",
    "                        attention_resolutions = \"32,16,8\",\n",
    "                        dropout = 0.0,\n",
    "                        resamp_with_conv = True,\n",
    "                        learn_sigma = True,\n",
    "                        use_scale_shift_norm = True,\n",
    "                        use_fp16 = True,\n",
    "                        resblock_updown = True,\n",
    "                        num_heads_upsample = -1,\n",
    "                        var_type = 'fixedsmall',\n",
    "                        num_head_channels = 64,\n",
    "                        image_size = 256,\n",
    "                        class_cond = False,\n",
    "                        use_new_attention_order = False,\n",
    "                        ),\n",
    "\n",
    "                diffusion = dict(\n",
    "                        beta_schedule = 'linear',\n",
    "                        beta_start = 0.0001,\n",
    "                        beta_end = 0.02,\n",
    "                        num_diffusion_timesteps = 1000,\n",
    "                        ),\n",
    "\n",
    "                sampling = dict(\n",
    "                        batch_size = 8, # was 8\n",
    "                        last_only = True,\n",
    "                        )\n",
    "\n",
    "                )"
   ]
  },
  {
   "cell_type": "markdown",
   "metadata": {},
   "source": [
    "## SR4x Noiseless"
   ]
  },
  {
   "cell_type": "code",
   "execution_count": 3,
   "metadata": {},
   "outputs": [
    {
     "name": "stdout",
     "output_type": "stream",
     "text": [
      "building dataset from ./ckpts_ddrm/imagenet_val_1k.txt\n",
      "read meta done\n",
      "Dataset has size 1000\n"
     ]
    },
    {
     "name": "stderr",
     "output_type": "stream",
     "text": [
      "/opt/conda/lib/python3.9/site-packages/torch/utils/data/dataloader.py:560: UserWarning: This DataLoader will create 32 worker processes in total. Our suggested max number of worker in current system is 16, which is smaller than what this DataLoader is going to create. Please be aware that excessive worker creation might get DataLoader running slow or even freeze, lower the worker number to avoid potential slowness/freeze if necessary.\n",
      "  warnings.warn(_create_warning_msg(\n"
     ]
    },
    {
     "name": "stdout",
     "output_type": "stream",
     "text": [
      "Start from 0\n"
     ]
    },
    {
     "name": "stderr",
     "output_type": "stream",
     "text": [
      "  0%|          | 0/125 [00:00<?, ?it/s]/opt/conda/lib/python3.9/site-packages/torchmetrics/utilities/prints.py:43: UserWarning: Metric `Kernel Inception Distance` will save all extracted features in buffer. For large datasets this may lead to large memory footprint.\n",
      "  warnings.warn(*args, **kwargs)  # noqa: B028\n",
      "PSNR = 26.59, METRIC_PSNR = 26.33, SSIM = 0.76: 100%|██████████| 125/125 [13:18<00:00,  6.39s/it]\n"
     ]
    },
    {
     "name": "stdout",
     "output_type": "stream",
     "text": [
      "Total Average PSNR = 26.59\n",
      "Total Average Metric PSNR = 26.33\n",
      "Total Average SSIM = 0.76\n",
      "KID (experimental) = 7.3+-2.0\n",
      "Number of samples: 1000\n"
     ]
    }
   ],
   "source": [
    "args_dict = dict(\n",
    "\n",
    "                exp = \"./ckpts_ddrm/\",\n",
    "                seed = 1234,\n",
    "                sigma_y = 0.0,\n",
    "                task = 'sr4x',\n",
    "                eta = 0.85,\n",
    "                eta_b = 1.0,\n",
    "\n",
    "                )\n",
    "                \n",
    "config, args, ddrm_model, schedule = load_model_and_initialize_ddrm(config_dict, args_dict)\n",
    "dataset, val_loader, H = load_dataset_and_task(config, args)\n",
    "run_evaluation(config, args, val_loader, ddrm_model, H)"
   ]
  },
  {
   "cell_type": "markdown",
   "metadata": {},
   "source": [
    "## SR4x Noisy (sigma = 0.05)"
   ]
  },
  {
   "cell_type": "code",
   "execution_count": 4,
   "metadata": {},
   "outputs": [
    {
     "name": "stdout",
     "output_type": "stream",
     "text": [
      "building dataset from ./ckpts_ddrm/imagenet_val_1k.txt\n",
      "read meta done\n",
      "Dataset has size 1000\n",
      "Start from 0\n"
     ]
    },
    {
     "name": "stderr",
     "output_type": "stream",
     "text": [
      "PSNR = 25.22, METRIC_PSNR = 24.96, SSIM = 0.69: 100%|██████████| 125/125 [13:09<00:00,  6.32s/it]\n"
     ]
    },
    {
     "name": "stdout",
     "output_type": "stream",
     "text": [
      "Total Average PSNR = 25.22\n",
      "Total Average Metric PSNR = 24.96\n",
      "Total Average SSIM = 0.69\n",
      "KID (experimental) = 12.71+-2.91\n",
      "Number of samples: 1000\n"
     ]
    }
   ],
   "source": [
    "args_dict = dict(\n",
    "\n",
    "                exp = \"./ckpts_ddrm/\",\n",
    "                seed = 1234,\n",
    "                sigma_y = 0.05,\n",
    "                task = 'sr4x',\n",
    "                eta = 0.85,\n",
    "                eta_b = 1.0,\n",
    "\n",
    "                )\n",
    "\n",
    "config, args, ddrm_model, schedule = load_model_and_initialize_ddrm(config_dict, args_dict)\n",
    "dataset, val_loader, H = load_dataset_and_task(config, args)\n",
    "run_evaluation(config, args, val_loader, ddrm_model, H)"
   ]
  },
  {
   "cell_type": "markdown",
   "metadata": {},
   "source": [
    "## Deblur Noiseless"
   ]
  },
  {
   "cell_type": "code",
   "execution_count": 5,
   "metadata": {},
   "outputs": [
    {
     "name": "stdout",
     "output_type": "stream",
     "text": [
      "building dataset from ./ckpts_ddrm/imagenet_val_1k.txt\n",
      "read meta done\n",
      "Dataset has size 1000\n",
      "Start from 0\n"
     ]
    },
    {
     "name": "stderr",
     "output_type": "stream",
     "text": [
      "PSNR = 38.48, METRIC_PSNR = 38.16, SSIM = 0.96:   4%|▍         | 5/125 [00:35<13:15,  6.63s/it]"
     ]
    },
    {
     "name": "stderr",
     "output_type": "stream",
     "text": [
      "PSNR = 38.71, METRIC_PSNR = 38.45, SSIM = 0.96: 100%|██████████| 125/125 [13:02<00:00,  6.26s/it]\n"
     ]
    },
    {
     "name": "stdout",
     "output_type": "stream",
     "text": [
      "Total Average PSNR = 38.71\n",
      "Total Average Metric PSNR = 38.45\n",
      "Total Average SSIM = 0.96\n",
      "KID (experimental) = -0.24+-0.83\n",
      "Number of samples: 1000\n"
     ]
    }
   ],
   "source": [
    "args_dict = dict(\n",
    "\n",
    "                exp = \"./ckpts_ddrm/\",\n",
    "                seed = 1234,\n",
    "                sigma_y = 0.0,\n",
    "                task = 'deblur',\n",
    "                eta = 0.85,\n",
    "                eta_b = 1.0,\n",
    "\n",
    "                )\n",
    "\n",
    "config, args, ddrm_model, schedule = load_model_and_initialize_ddrm(config_dict, args_dict)\n",
    "dataset, val_loader, H = load_dataset_and_task(config, args)\n",
    "run_evaluation(config, args, val_loader, ddrm_model, H, T_ddrm_steps=20)"
   ]
  },
  {
   "cell_type": "markdown",
   "metadata": {},
   "source": [
    "## Deblur Noisy (sigma = 0.05)"
   ]
  },
  {
   "cell_type": "code",
   "execution_count": 6,
   "metadata": {},
   "outputs": [
    {
     "name": "stdout",
     "output_type": "stream",
     "text": [
      "building dataset from ./ckpts_ddrm/imagenet_val_1k.txt\n",
      "read meta done\n",
      "Dataset has size 1000\n",
      "Start from 0\n"
     ]
    },
    {
     "name": "stderr",
     "output_type": "stream",
     "text": [
      "PSNR = 26.26, METRIC_PSNR = 25.97, SSIM = 0.7:   3%|▎         | 4/125 [00:27<13:07,  6.51s/it] "
     ]
    },
    {
     "name": "stderr",
     "output_type": "stream",
     "text": [
      "PSNR = 25.45, METRIC_PSNR = 25.2, SSIM = 0.69: 100%|██████████| 125/125 [13:12<00:00,  6.34s/it] \n"
     ]
    },
    {
     "name": "stdout",
     "output_type": "stream",
     "text": [
      "Total Average PSNR = 25.45\n",
      "Total Average Metric PSNR = 25.2\n",
      "Total Average SSIM = 0.69\n",
      "KID (experimental) = 14.57+-3.62\n",
      "Number of samples: 1000\n"
     ]
    }
   ],
   "source": [
    "args_dict = dict(\n",
    "\n",
    "                exp = \"./ckpts_ddrm/\",\n",
    "                seed = 1234,\n",
    "                sigma_y = 0.05,\n",
    "                task = 'deblur',\n",
    "                eta = 0.85,\n",
    "                eta_b = 1.0,\n",
    "\n",
    "                )\n",
    "\n",
    "config, args, ddrm_model, schedule = load_model_and_initialize_ddrm(config_dict, args_dict)\n",
    "dataset, val_loader, H = load_dataset_and_task(config, args)\n",
    "run_evaluation(config, args, val_loader, ddrm_model, H)"
   ]
  },
  {
   "cell_type": "code",
   "execution_count": 7,
   "metadata": {},
   "outputs": [
    {
     "ename": "NameError",
     "evalue": "name 'test_dataset' is not defined",
     "output_type": "error",
     "traceback": [
      "\u001b[0;31m---------------------------------------------------------------------------\u001b[0m",
      "\u001b[0;31mNameError\u001b[0m                                 Traceback (most recent call last)",
      "\u001b[1;32m/mimer/NOBACKUP/groups/azizpour-group-alvis/bharath/research/ddrm_base/ddrm-main-results.ipynb Cell 11\u001b[0m line \u001b[0;36m8\n\u001b[1;32m      <a href='vscode-notebook-cell://portal.c3se.chalmers.se/mimer/NOBACKUP/groups/azizpour-group-alvis/bharath/research/ddrm_base/ddrm-main-results.ipynb#X13sdnNjb2RlLXJlbW90ZQ%3D%3D?line=5'>6</a>\u001b[0m f, ax \u001b[39m=\u001b[39m plt\u001b[39m.\u001b[39msubplots(ncols\u001b[39m=\u001b[39mnumcols, nrows\u001b[39m=\u001b[39mnumsamples, figsize\u001b[39m=\u001b[39m(\u001b[39m4\u001b[39m\u001b[39m*\u001b[39mnumcols,\u001b[39m4\u001b[39m\u001b[39m*\u001b[39mnumsamples))\n\u001b[1;32m      <a href='vscode-notebook-cell://portal.c3se.chalmers.se/mimer/NOBACKUP/groups/azizpour-group-alvis/bharath/research/ddrm_base/ddrm-main-results.ipynb#X13sdnNjb2RlLXJlbW90ZQ%3D%3D?line=6'>7</a>\u001b[0m np\u001b[39m.\u001b[39mrandom\u001b[39m.\u001b[39mseed(seed\u001b[39m=\u001b[39m\u001b[39m111\u001b[39m)\n\u001b[0;32m----> <a href='vscode-notebook-cell://portal.c3se.chalmers.se/mimer/NOBACKUP/groups/azizpour-group-alvis/bharath/research/ddrm_base/ddrm-main-results.ipynb#X13sdnNjb2RlLXJlbW90ZQ%3D%3D?line=7'>8</a>\u001b[0m samples \u001b[39m=\u001b[39m np\u001b[39m.\u001b[39mrandom\u001b[39m.\u001b[39mchoice(np\u001b[39m.\u001b[39marange(\u001b[39mlen\u001b[39m(test_dataset)),size\u001b[39m=\u001b[39m\u001b[39mNone\u001b[39;00m,replace\u001b[39m=\u001b[39m\u001b[39mFalse\u001b[39;00m)\n\u001b[1;32m     <a href='vscode-notebook-cell://portal.c3se.chalmers.se/mimer/NOBACKUP/groups/azizpour-group-alvis/bharath/research/ddrm_base/ddrm-main-results.ipynb#X13sdnNjb2RlLXJlbW90ZQ%3D%3D?line=9'>10</a>\u001b[0m samples \u001b[39m=\u001b[39m [samples]\u001b[39m*\u001b[39mnumsamples\n\u001b[1;32m     <a href='vscode-notebook-cell://portal.c3se.chalmers.se/mimer/NOBACKUP/groups/azizpour-group-alvis/bharath/research/ddrm_base/ddrm-main-results.ipynb#X13sdnNjb2RlLXJlbW90ZQ%3D%3D?line=11'>12</a>\u001b[0m \u001b[39mfor\u001b[39;00m idx,sample \u001b[39min\u001b[39;00m \u001b[39menumerate\u001b[39m(samples):\n",
      "\u001b[0;31mNameError\u001b[0m: name 'test_dataset' is not defined"
     ]
    },
    {
     "data": {
      "image/png": "[encoded data removed]",
      "text/plain": [
       "<Figure size 1200x1200 with 9 Axes>"
      ]
     },
     "metadata": {},
     "output_type": "display_data"
    }
   ],
   "source": [
    "#visualize_degradation (numsamples, H, dataset, sigma_y=0.0, eta=1.0, eta_b=1.0, T_ddrm=20, seed=42, onlymean=False, channels=0, image_size=0):\n",
    "\n",
    "numsamples = 3\n",
    "device = torch.device(\"cuda\")\n",
    "numcols = 3\n",
    "f, ax = plt.subplots(ncols=numcols, nrows=numsamples, figsize=(4*numcols,4*numsamples))\n",
    "np.random.seed(seed=111)\n",
    "samples = np.random.choice(np.arange(len(test_dataset)),size=None,replace=False)\n",
    "\n",
    "samples = [samples]*numsamples\n",
    "\n",
    "for idx,sample in enumerate(samples):\n",
    "    image, label = test_dataset[sample]\n",
    "    image = np.array(image, dtype=np.float32)    \n",
    "    vizimage = np.transpose(image, (1, 2, 0))\n",
    "\n",
    "    ax[idx, 0].imshow(vizimage,vmin=0.,vmax=1.)    \n",
    "    ax[idx, 0].set_xticks([])\n",
    "    ax[idx, 0].set_yticks([])\n",
    "\n",
    "    #orig_shape = image.shape\n",
    "    y = H.H(torch.tensor(image, device=device).reshape((1,config.data.channels,config.data.image_size,config.data.image_size)))\n",
    "    y = y + (sigma_y/2) * torch.randn_like(y)\n",
    "    s = int(np.sqrt(y.shape[1]//config.data.channels))\n",
    "    image_degraded = y.reshape((config.data.channels, s, s)).cpu().numpy()\n",
    "    image_degraded = np.transpose(image_degraded, (1, 2, 0))\n",
    "    \n",
    "    ax[idx, 1].imshow(image_degraded,vmin=0.,vmax=1.)    \n",
    "    ax[idx, 1].set_xticks([])\n",
    "    ax[idx, 1].set_yticks([])\n",
    "\n",
    "    \n",
    "    image = (image - .5) / (.5)\n",
    "    y = H.H(torch.tensor(image, device=device).reshape((1,config.data.channels,config.data.image_size,config.data.image_size)))\n",
    "    y = y + sigma_y * torch.randn_like(y)\n",
    "    dx = torch.randn(\n",
    "        y.shape[0],\n",
    "        config.data.channels,\n",
    "        config.data.image_size,\n",
    "        config.data.image_size,\n",
    "        device=device,\n",
    "    )\n",
    "    recovered_image = ddrm_model.reverse_diffusion_ddrm(dx, y, sigma_y, args.eta, args.eta_b, config.data.channels, config.data.image_size, H=H, T_ddrm=20, cuda=True, onlymean=False)\n",
    "    recovered_image = recovered_image.cpu().numpy()\n",
    "    recovered_image = np.transpose(recovered_image.reshape((config.data.channels, config.data.image_size, config.data.image_size)),(1,2,0))\n",
    "    \n",
    "    ax[idx, 2].imshow(.5*(recovered_image + 1.),vmin=0.,vmax=1.)    \n",
    "    ax[idx, 2].set_xticks([])\n",
    "    ax[idx, 2].set_yticks([])\n",
    "    \n",
    "    if idx == len(samples)-1:\n",
    "        ax[idx, 0].set_xlabel('Original sample', fontsize=6*numcols)\n",
    "        ax[idx, 1].set_xlabel('Degraded sample', fontsize=6*numcols)\n",
    "        ax[idx, 2].set_xlabel('Recovered sample', fontsize=6*numcols)\n",
    "\n"
   ]
  }
 ],
 "metadata": {
  "kernelspec": {
   "display_name": "base",
   "language": "python",
   "name": "python3"
  },
  "language_info": {
   "codemirror_mode": {
    "name": "ipython",
    "version": 3
   },
   "file_extension": ".py",
   "mimetype": "text/x-python",
   "name": "python",
   "nbconvert_exporter": "python",
   "pygments_lexer": "ipython3",
   "version": "3.9.12"
  }
 },
 "nbformat": 4,
 "nbformat_minor": 2
}
